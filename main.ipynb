{
 "cells": [
  {
   "cell_type": "code",
   "execution_count": 25,
   "id": "c6c6fb12",
   "metadata": {},
   "outputs": [
    {
     "data": {
      "text/plain": [
       "'C:\\\\Users\\\\srinivas\\\\Data_Analysis_Project 2'"
      ]
     },
     "execution_count": 25,
     "metadata": {},
     "output_type": "execute_result"
    }
   ],
   "source": [
    "import os\n",
    "os.getcwd()  "
   ]
  },
  {
   "cell_type": "code",
   "execution_count": 26,
   "id": "f2276952",
   "metadata": {},
   "outputs": [
    {
     "name": "stdout",
     "output_type": "stream",
     "text": [
      "['.ipynb_checkpoints', 'demographic_data_analyzer.ipynb', 'demographic_data_analyzer.py', 'demographic_data_analyzer1.py', 'main.ipynb', 'test_module.py', 'Untitled.ipynb', '__pycache__']\n"
     ]
    }
   ],
   "source": [
    "import os\n",
    "print(os.listdir())  "
   ]
  },
  {
   "cell_type": "code",
   "execution_count": 27,
   "id": "cb936323",
   "metadata": {},
   "outputs": [
    {
     "name": "stdout",
     "output_type": "stream",
     "text": [
      "['.ipynb_checkpoints', 'demographic_data_analyzer.ipynb', 'demographic_data_analyzer.py', 'demographic_data_analyzer1.py', 'main.ipynb', 'test_module.py', 'Untitled.ipynb', '__pycache__']\n"
     ]
    }
   ],
   "source": [
    "import os\n",
    "print(os.listdir())"
   ]
  },
  {
   "cell_type": "code",
   "execution_count": 28,
   "id": "a382b5e0",
   "metadata": {},
   "outputs": [
    {
     "name": "stdout",
     "output_type": "stream",
     "text": [
      "Number of each race:\n",
      " White                 27816\n",
      "Black                  3124\n",
      "Asian-Pac-Islander     1039\n",
      "Amer-Indian-Eskimo      311\n",
      "Other                   271\n",
      "Name: race, dtype: int64 \n",
      "\n",
      "Average age of men: 39.4\n",
      "Percentage with Bachelors degrees: 16.4\n",
      "Percentage with higher education that earn >50K: 46.5\n",
      "Percentage without higher education that earn >50K: 17.4\n",
      "Min work time: 1\n",
      "Percentage of rich among those who work fewest hours: 10.0\n",
      "Country with highest percentage of rich: Iran\n",
      "Highest percentage of rich people in country: 41.9\n",
      "Top occupations in India for those earning >50K: Prof-specialty\n"
     ]
    }
   ],
   "source": [
    "import importlib\n",
    "import demographic_data_analyzer1\n",
    "\n",
    "\n",
    "importlib.reload(demographic_data_analyzer1)\n",
    "\n",
    "\n",
    "result = demographic_data_analyzer1.calculate_demographic_data()\n",
    "\n",
    "\n",
    "print(\"Number of each race:\\n\", result['race_count'], \"\\n\")\n",
    "print(\"Average age of men:\", result['average_age_men'])\n",
    "print(\"Percentage with Bachelors degrees:\", result['percentage_bachelors'])\n",
    "print(\"Percentage with higher education that earn >50K:\", result['higher_education_rich'])\n",
    "print(\"Percentage without higher education that earn >50K:\", result['lower_education_rich'])\n",
    "print(\"Min work time:\", result['min_work_hours'])\n",
    "print(\"Percentage of rich among those who work fewest hours:\", result['rich_percentage'])\n",
    "print(\"Country with highest percentage of rich:\", result['highest_earning_country'])\n",
    "print(\"Highest percentage of rich people in country:\", result['highest_earning_country_percentage'])\n",
    "print(\"Top occupations in India for those earning >50K:\", result['top_IN_occupation'])"
   ]
  },
  {
   "cell_type": "code",
   "execution_count": 29,
   "id": "30309e9e",
   "metadata": {
    "scrolled": true
   },
   "outputs": [
    {
     "name": "stderr",
     "output_type": "stream",
     "text": [
      "..........\n",
      "----------------------------------------------------------------------\n",
      "Ran 10 tests in 0.107s\n",
      "\n",
      "OK\n"
     ]
    }
   ],
   "source": [
    "!python test_module.py"
   ]
  },
  {
   "cell_type": "code",
   "execution_count": null,
   "id": "d933292d",
   "metadata": {},
   "outputs": [],
   "source": []
  }
 ],
 "metadata": {
  "kernelspec": {
   "display_name": "Python 3 (ipykernel)",
   "language": "python",
   "name": "python3"
  },
  "language_info": {
   "codemirror_mode": {
    "name": "ipython",
    "version": 3
   },
   "file_extension": ".py",
   "mimetype": "text/x-python",
   "name": "python",
   "nbconvert_exporter": "python",
   "pygments_lexer": "ipython3",
   "version": "3.10.9"
  }
 },
 "nbformat": 4,
 "nbformat_minor": 5
}
