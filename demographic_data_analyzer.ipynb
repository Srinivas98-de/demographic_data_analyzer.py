{
 "cells": [
  {
   "cell_type": "code",
   "execution_count": 8,
   "id": "18c4cf3b",
   "metadata": {},
   "outputs": [],
   "source": [
    "\n",
    "import pandas as pd\n",
    "\n",
    "def calculate_demographic_data(print_data=True):\n",
    "    # Column names\n",
    "    column_names = [\n",
    "        'age', 'workclass', 'fnlwgt', 'education', 'education-num',\n",
    "        'marital-status', 'occupation', 'relationship', 'race', 'sex',\n",
    "        'capital-gain', 'capital-loss', 'hours-per-week', 'native-country', 'salary'\n",
    "    ]\n",
    "\n",
    "    \n",
    "    df = pd.read_csv(\n",
    "        r'c:/users/srinivas/downloads/dataset/adult/adult.data',\n",
    "        header=None,\n",
    "        names=column_names,\n",
    "        skipinitialspace=True\n",
    "    )\n",
    "\n",
    "    \n",
    "    race_count = df['race'].value_counts()\n",
    "    average_age_men = round(df[df['sex'] == 'Male']['age'].mean(), 1)\n",
    "\n",
    "\n",
    "    percentage_bachelors = round((df['education'] == 'Bachelors').mean() * 100, 1)\n",
    "\n",
    "    higher_edu = df['education'].isin(['Bachelors', 'Masters', 'Doctorate'])\n",
    "    lower_edu = ~higher_edu\n",
    "\n",
    "    higher_education_rich = round((df[higher_edu & (df['salary'] == '>50K')].shape[0] / df[higher_edu].shape[0]) * 100, 1)\n",
    "    lower_education_rich = round((df[lower_edu & (df['salary'] == '>50K')].shape[0] / df[lower_edu].shape[0]) * 100, 1)\n",
    "\n",
    "    min_work_hours = df['hours-per-week'].min()\n",
    "    num_min_workers = df[df['hours-per-week'] == min_work_hours]\n",
    "    rich_percentage = round((num_min_workers['salary'] == '>50K').mean() * 100, 1)\n",
    "\n",
    "    country_earnings = df[df['salary'] == '>50K']['native-country'].value_counts() / df['native-country'].value_counts()\n",
    "    highest_earning_country = country_earnings.idxmax()\n",
    "    highest_earning_country_percentage = round(country_earnings.max() * 100, 1)\n",
    "\n",
    "    top_IN_occupation = df[(df['native-country'] == 'India') & (df['salary'] == '>50K')]['occupation'].mode()[0]\n",
    "\n",
    "    return {\n",
    "        'race_count': race_count,\n",
    "        'average_age_men': average_age_men,\n",
    "        'percentage_bachelors': percentage_bachelors,\n",
    "        'higher_education_rich': higher_education_rich,\n",
    "        'lower_education_rich': lower_education_rich,\n",
    "        'min_work_hours': min_work_hours,\n",
    "        'rich_percentage': rich_percentage,\n",
    "        'highest_earning_country': highest_earning_country,\n",
    "        'highest_earning_country_percentage': highest_earning_country_percentage,\n",
    "        'top_IN_occupation': top_IN_occupation\n",
    "    }"
   ]
  },
  {
   "cell_type": "code",
   "execution_count": 3,
   "id": "1c92aa69",
   "metadata": {},
   "outputs": [],
   "source": []
  },
  {
   "cell_type": "code",
   "execution_count": 5,
   "id": "b615c071",
   "metadata": {},
   "outputs": [],
   "source": []
  },
  {
   "cell_type": "code",
   "execution_count": null,
   "id": "7b4d32ca",
   "metadata": {},
   "outputs": [],
   "source": []
  }
 ],
 "metadata": {
  "kernelspec": {
   "display_name": "Python 3 (ipykernel)",
   "language": "python",
   "name": "python3"
  },
  "language_info": {
   "codemirror_mode": {
    "name": "ipython",
    "version": 3
   },
   "file_extension": ".py",
   "mimetype": "text/x-python",
   "name": "python",
   "nbconvert_exporter": "python",
   "pygments_lexer": "ipython3",
   "version": "3.10.9"
  }
 },
 "nbformat": 4,
 "nbformat_minor": 5
}
